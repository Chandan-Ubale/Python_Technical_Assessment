{
 "cells": [
  {
   "cell_type": "markdown",
   "id": "3779855d-7b5f-48dd-982f-bf400975909c",
   "metadata": {},
   "source": [
    "1. Write a Python function to check if a string is a palindrome. (String from user input)"
   ]
  },
  {
   "cell_type": "code",
   "execution_count": 17,
   "id": "05f04e50-147e-486b-93fa-1a99c0c2d312",
   "metadata": {},
   "outputs": [
    {
     "name": "stdin",
     "output_type": "stream",
     "text": [
      "Enter a word to check weather it is palindrom or not : mam\n"
     ]
    },
    {
     "name": "stdout",
     "output_type": "stream",
     "text": [
      "The word mam is Palindrome ?: True\n"
     ]
    }
   ],
   "source": [
    "def isPalindrome(s: str)->bool:\n",
    "    s.lower().replace(\" \",\"\")\n",
    "    return s==s[::-1]\n",
    "\n",
    "word = input(\"Enter a word to check weather it is palindrom or not :\")\n",
    "print(f\"The word {word} is Palindrome ?:\",isPalindrome(word))"
   ]
  },
  {
   "cell_type": "markdown",
   "id": "ce4949f7-53ea-4864-8691-dcb4b47de45f",
   "metadata": {},
   "source": [
    "2. Given a list of numbers, use list comprehension to create a list of their squares."
   ]
  },
  {
   "cell_type": "code",
   "execution_count": 18,
   "id": "8656b0a1-6aae-4b10-af7f-8a75e8138c7d",
   "metadata": {},
   "outputs": [
    {
     "name": "stdin",
     "output_type": "stream",
     "text": [
      "enter the numbers separated by spaces : 1 2 3 4 5 6 7 8 9\n"
     ]
    },
    {
     "name": "stdout",
     "output_type": "stream",
     "text": [
      "[1, 4, 9, 16, 25, 36, 49, 64, 81]\n"
     ]
    }
   ],
   "source": [
    "def ListComprehension(l1:list):\n",
    "    return [x**2 for x in l1]\n",
    "\n",
    "l1 = list(map(int,input(\"enter the numbers separated by spaces :\").split()))\n",
    "print(ListComprehension(l1))"
   ]
  },
  {
   "cell_type": "markdown",
   "id": "ca7805c5-17eb-4b9b-bc16-2d5abd6057d8",
   "metadata": {},
   "source": [
    "3. Create a DataFrame of 5 students with their marks and find who scored more than 80."
   ]
  },
  {
   "cell_type": "code",
   "execution_count": 27,
   "id": "8ee187bc-d117-412d-bc82-51f2058c2bc3",
   "metadata": {},
   "outputs": [],
   "source": [
    "# pip install pandas"
   ]
  },
  {
   "cell_type": "code",
   "execution_count": 21,
   "id": "cebc924e-4901-4355-a45e-7703b32cc50f",
   "metadata": {},
   "outputs": [
    {
     "data": {
      "text/html": [
       "<div>\n",
       "<style scoped>\n",
       "    .dataframe tbody tr th:only-of-type {\n",
       "        vertical-align: middle;\n",
       "    }\n",
       "\n",
       "    .dataframe tbody tr th {\n",
       "        vertical-align: top;\n",
       "    }\n",
       "\n",
       "    .dataframe thead th {\n",
       "        text-align: right;\n",
       "    }\n",
       "</style>\n",
       "<table border=\"1\" class=\"dataframe\">\n",
       "  <thead>\n",
       "    <tr style=\"text-align: right;\">\n",
       "      <th></th>\n",
       "      <th>Name</th>\n",
       "      <th>Marks</th>\n",
       "    </tr>\n",
       "  </thead>\n",
       "  <tbody>\n",
       "    <tr>\n",
       "      <th>0</th>\n",
       "      <td>Chandan G</td>\n",
       "      <td>88</td>\n",
       "    </tr>\n",
       "    <tr>\n",
       "      <th>1</th>\n",
       "      <td>Shreyas</td>\n",
       "      <td>76</td>\n",
       "    </tr>\n",
       "    <tr>\n",
       "      <th>2</th>\n",
       "      <td>Animesh</td>\n",
       "      <td>69</td>\n",
       "    </tr>\n",
       "    <tr>\n",
       "      <th>3</th>\n",
       "      <td>Preeti</td>\n",
       "      <td>87</td>\n",
       "    </tr>\n",
       "    <tr>\n",
       "      <th>4</th>\n",
       "      <td>Shrilakshmi</td>\n",
       "      <td>88</td>\n",
       "    </tr>\n",
       "  </tbody>\n",
       "</table>\n",
       "</div>"
      ],
      "text/plain": [
       "          Name  Marks\n",
       "0    Chandan G     88\n",
       "1      Shreyas     76\n",
       "2      Animesh     69\n",
       "3       Preeti     87\n",
       "4  Shrilakshmi     88"
      ]
     },
     "execution_count": 21,
     "metadata": {},
     "output_type": "execute_result"
    }
   ],
   "source": [
    "import pandas as pd\n",
    "Students = {\n",
    "    \"Name\":[\"Chandan G\",\"Shreyas\",\"Animesh\",\"Preeti\",\"Shrilakshmi\"],\n",
    "    \"Marks\" :[88,76,69,87,88]\n",
    "}\n",
    "\n",
    "Students_DataFrame = pd.DataFrame(Students)\n",
    "\n",
    "Students_DataFrame"
   ]
  },
  {
   "cell_type": "code",
   "execution_count": 26,
   "id": "cacd0939-4726-449e-a598-1ac4c45ad8df",
   "metadata": {},
   "outputs": [
    {
     "data": {
      "text/html": [
       "<div>\n",
       "<style scoped>\n",
       "    .dataframe tbody tr th:only-of-type {\n",
       "        vertical-align: middle;\n",
       "    }\n",
       "\n",
       "    .dataframe tbody tr th {\n",
       "        vertical-align: top;\n",
       "    }\n",
       "\n",
       "    .dataframe thead th {\n",
       "        text-align: right;\n",
       "    }\n",
       "</style>\n",
       "<table border=\"1\" class=\"dataframe\">\n",
       "  <thead>\n",
       "    <tr style=\"text-align: right;\">\n",
       "      <th></th>\n",
       "      <th>Name</th>\n",
       "      <th>Marks</th>\n",
       "    </tr>\n",
       "  </thead>\n",
       "  <tbody>\n",
       "    <tr>\n",
       "      <th>0</th>\n",
       "      <td>Chandan G</td>\n",
       "      <td>88</td>\n",
       "    </tr>\n",
       "    <tr>\n",
       "      <th>3</th>\n",
       "      <td>Preeti</td>\n",
       "      <td>87</td>\n",
       "    </tr>\n",
       "    <tr>\n",
       "      <th>4</th>\n",
       "      <td>Shrilakshmi</td>\n",
       "      <td>88</td>\n",
       "    </tr>\n",
       "  </tbody>\n",
       "</table>\n",
       "</div>"
      ],
      "text/plain": [
       "          Name  Marks\n",
       "0    Chandan G     88\n",
       "3       Preeti     87\n",
       "4  Shrilakshmi     88"
      ]
     },
     "execution_count": 26,
     "metadata": {},
     "output_type": "execute_result"
    }
   ],
   "source": [
    "filter_Df = Students_DataFrame[Students_DataFrame[\"Marks\"]>80]\n",
    "filter_Df"
   ]
  },
  {
   "cell_type": "markdown",
   "id": "157eb96e-9995-48ae-acb5-0edb8c698658",
   "metadata": {},
   "source": [
    "4. Create a 5x5 array with random integers between 1 and 100."
   ]
  },
  {
   "cell_type": "code",
   "execution_count": 31,
   "id": "9fc6725e-54b6-4f18-ac5a-046ebb4a094c",
   "metadata": {},
   "outputs": [],
   "source": [
    "# pip install numpy"
   ]
  },
  {
   "cell_type": "code",
   "execution_count": 30,
   "id": "194cf398-34e8-4ec1-bb49-7713aedd201e",
   "metadata": {},
   "outputs": [
    {
     "name": "stdout",
     "output_type": "stream",
     "text": [
      "[[ 83  90 100  46  81]\n",
      " [ 11  93  21  81  73]\n",
      " [  3   6  80  81  83]\n",
      " [ 13  23  42  75  67]\n",
      " [ 16  28  28  25  66]]\n"
     ]
    }
   ],
   "source": [
    "import numpy as np\n",
    "\n",
    "mat = np.random.randint(1,101,size=(5,5))\n",
    "print(mat)"
   ]
  },
  {
   "cell_type": "markdown",
   "id": "89907076-739c-4871-8221-83e5a888b6df",
   "metadata": {},
   "source": [
    "5 . Create a DataFrame of products with columns: Product Name, Price, Category.\n",
    "    Add a new column - Discounted Price = 90% of Price.\n",
    "    Filter and show products cheaper than 500."
   ]
  },
  {
   "cell_type": "code",
   "execution_count": 37,
   "id": "652167cf-2ee5-4eab-905f-6615e54d3100",
   "metadata": {},
   "outputs": [
    {
     "data": {
      "text/html": [
       "<div>\n",
       "<style scoped>\n",
       "    .dataframe tbody tr th:only-of-type {\n",
       "        vertical-align: middle;\n",
       "    }\n",
       "\n",
       "    .dataframe tbody tr th {\n",
       "        vertical-align: top;\n",
       "    }\n",
       "\n",
       "    .dataframe thead th {\n",
       "        text-align: right;\n",
       "    }\n",
       "</style>\n",
       "<table border=\"1\" class=\"dataframe\">\n",
       "  <thead>\n",
       "    <tr style=\"text-align: right;\">\n",
       "      <th></th>\n",
       "      <th>Product Name</th>\n",
       "      <th>Price</th>\n",
       "      <th>Category</th>\n",
       "    </tr>\n",
       "  </thead>\n",
       "  <tbody>\n",
       "    <tr>\n",
       "      <th>0</th>\n",
       "      <td>Laptop</td>\n",
       "      <td>55000</td>\n",
       "      <td>Electronics</td>\n",
       "    </tr>\n",
       "    <tr>\n",
       "      <th>1</th>\n",
       "      <td>Smartphone</td>\n",
       "      <td>25000</td>\n",
       "      <td>Electronics</td>\n",
       "    </tr>\n",
       "    <tr>\n",
       "      <th>2</th>\n",
       "      <td>Headphones</td>\n",
       "      <td>3000</td>\n",
       "      <td>Electronics</td>\n",
       "    </tr>\n",
       "    <tr>\n",
       "      <th>3</th>\n",
       "      <td>Coffee Maker</td>\n",
       "      <td>7000</td>\n",
       "      <td>Home Appliances</td>\n",
       "    </tr>\n",
       "    <tr>\n",
       "      <th>4</th>\n",
       "      <td>Desk Chair</td>\n",
       "      <td>12000</td>\n",
       "      <td>Furniture</td>\n",
       "    </tr>\n",
       "    <tr>\n",
       "      <th>5</th>\n",
       "      <td>Refrigerator</td>\n",
       "      <td>40000</td>\n",
       "      <td>Home Appliances</td>\n",
       "    </tr>\n",
       "    <tr>\n",
       "      <th>6</th>\n",
       "      <td>Microwave Oven</td>\n",
       "      <td>150</td>\n",
       "      <td>Home Appliances</td>\n",
       "    </tr>\n",
       "    <tr>\n",
       "      <th>7</th>\n",
       "      <td>Smartwatch</td>\n",
       "      <td>1000</td>\n",
       "      <td>Electronics</td>\n",
       "    </tr>\n",
       "    <tr>\n",
       "      <th>8</th>\n",
       "      <td>Bookshelf</td>\n",
       "      <td>500</td>\n",
       "      <td>Furniture</td>\n",
       "    </tr>\n",
       "    <tr>\n",
       "      <th>9</th>\n",
       "      <td>Gaming Console</td>\n",
       "      <td>35000</td>\n",
       "      <td>Electronics</td>\n",
       "    </tr>\n",
       "    <tr>\n",
       "      <th>10</th>\n",
       "      <td>Washing Machine</td>\n",
       "      <td>30000</td>\n",
       "      <td>Home Appliances</td>\n",
       "    </tr>\n",
       "    <tr>\n",
       "      <th>11</th>\n",
       "      <td>Office Desk</td>\n",
       "      <td>18000</td>\n",
       "      <td>Furniture</td>\n",
       "    </tr>\n",
       "    <tr>\n",
       "      <th>12</th>\n",
       "      <td>Bluetooth Speaker</td>\n",
       "      <td>567</td>\n",
       "      <td>Electronics</td>\n",
       "    </tr>\n",
       "    <tr>\n",
       "      <th>13</th>\n",
       "      <td>Air Conditioner</td>\n",
       "      <td>450</td>\n",
       "      <td>Home Appliances</td>\n",
       "    </tr>\n",
       "    <tr>\n",
       "      <th>14</th>\n",
       "      <td>Table Lamp</td>\n",
       "      <td>2500</td>\n",
       "      <td>Furniture</td>\n",
       "    </tr>\n",
       "  </tbody>\n",
       "</table>\n",
       "</div>"
      ],
      "text/plain": [
       "         Product Name  Price         Category\n",
       "0              Laptop  55000      Electronics\n",
       "1          Smartphone  25000      Electronics\n",
       "2          Headphones   3000      Electronics\n",
       "3        Coffee Maker   7000  Home Appliances\n",
       "4          Desk Chair  12000        Furniture\n",
       "5        Refrigerator  40000  Home Appliances\n",
       "6      Microwave Oven    150  Home Appliances\n",
       "7          Smartwatch   1000      Electronics\n",
       "8           Bookshelf    500        Furniture\n",
       "9      Gaming Console  35000      Electronics\n",
       "10    Washing Machine  30000  Home Appliances\n",
       "11        Office Desk  18000        Furniture\n",
       "12  Bluetooth Speaker    567      Electronics\n",
       "13    Air Conditioner    450  Home Appliances\n",
       "14         Table Lamp   2500        Furniture"
      ]
     },
     "execution_count": 37,
     "metadata": {},
     "output_type": "execute_result"
    }
   ],
   "source": [
    "import pandas as pd\n",
    "ProductInfo = {\n",
    "    \"Product Name\":[\"Laptop\", \"Smartphone\", \"Headphones\", \"Coffee Maker\", \"Desk Chair\",\n",
    "    \"Refrigerator\", \"Microwave Oven\", \"Smartwatch\", \"Bookshelf\", \"Gaming Console\",\n",
    "    \"Washing Machine\", \"Office Desk\", \"Bluetooth Speaker\", \"Air Conditioner\", \"Table Lamp\"\n",
    "    ],\n",
    "    \"Price\":[55000, 25000, 3000, 7000, 12000,\n",
    "    40000, 150, 1000, 500, 35000,\n",
    "    30000, 18000, 567, 450, 2500\n",
    "    ],\n",
    "    \"Category\" : [\"Electronics\", \"Electronics\", \"Electronics\", \"Home Appliances\", \"Furniture\",\n",
    "    \"Home Appliances\", \"Home Appliances\", \"Electronics\", \"Furniture\", \"Electronics\",\n",
    "    \"Home Appliances\", \"Furniture\", \"Electronics\", \"Home Appliances\", \"Furniture\"\n",
    "    ]\n",
    "}\n",
    "\n",
    "ProductInfo_Df = pd.DataFrame(ProductInfo)\n",
    "ProductInfo_Df"
   ]
  },
  {
   "cell_type": "code",
   "execution_count": 38,
   "id": "95bc82f0-d9a1-4fc6-810f-e7ab87277c89",
   "metadata": {},
   "outputs": [
    {
     "data": {
      "text/html": [
       "<div>\n",
       "<style scoped>\n",
       "    .dataframe tbody tr th:only-of-type {\n",
       "        vertical-align: middle;\n",
       "    }\n",
       "\n",
       "    .dataframe tbody tr th {\n",
       "        vertical-align: top;\n",
       "    }\n",
       "\n",
       "    .dataframe thead th {\n",
       "        text-align: right;\n",
       "    }\n",
       "</style>\n",
       "<table border=\"1\" class=\"dataframe\">\n",
       "  <thead>\n",
       "    <tr style=\"text-align: right;\">\n",
       "      <th></th>\n",
       "      <th>Product Name</th>\n",
       "      <th>Price</th>\n",
       "      <th>Category</th>\n",
       "      <th>Discounted Price</th>\n",
       "    </tr>\n",
       "  </thead>\n",
       "  <tbody>\n",
       "    <tr>\n",
       "      <th>0</th>\n",
       "      <td>Laptop</td>\n",
       "      <td>55000</td>\n",
       "      <td>Electronics</td>\n",
       "      <td>49500.0</td>\n",
       "    </tr>\n",
       "    <tr>\n",
       "      <th>1</th>\n",
       "      <td>Smartphone</td>\n",
       "      <td>25000</td>\n",
       "      <td>Electronics</td>\n",
       "      <td>22500.0</td>\n",
       "    </tr>\n",
       "    <tr>\n",
       "      <th>2</th>\n",
       "      <td>Headphones</td>\n",
       "      <td>3000</td>\n",
       "      <td>Electronics</td>\n",
       "      <td>2700.0</td>\n",
       "    </tr>\n",
       "    <tr>\n",
       "      <th>3</th>\n",
       "      <td>Coffee Maker</td>\n",
       "      <td>7000</td>\n",
       "      <td>Home Appliances</td>\n",
       "      <td>6300.0</td>\n",
       "    </tr>\n",
       "    <tr>\n",
       "      <th>4</th>\n",
       "      <td>Desk Chair</td>\n",
       "      <td>12000</td>\n",
       "      <td>Furniture</td>\n",
       "      <td>10800.0</td>\n",
       "    </tr>\n",
       "    <tr>\n",
       "      <th>5</th>\n",
       "      <td>Refrigerator</td>\n",
       "      <td>40000</td>\n",
       "      <td>Home Appliances</td>\n",
       "      <td>36000.0</td>\n",
       "    </tr>\n",
       "    <tr>\n",
       "      <th>6</th>\n",
       "      <td>Microwave Oven</td>\n",
       "      <td>150</td>\n",
       "      <td>Home Appliances</td>\n",
       "      <td>135.0</td>\n",
       "    </tr>\n",
       "    <tr>\n",
       "      <th>7</th>\n",
       "      <td>Smartwatch</td>\n",
       "      <td>1000</td>\n",
       "      <td>Electronics</td>\n",
       "      <td>900.0</td>\n",
       "    </tr>\n",
       "    <tr>\n",
       "      <th>8</th>\n",
       "      <td>Bookshelf</td>\n",
       "      <td>500</td>\n",
       "      <td>Furniture</td>\n",
       "      <td>450.0</td>\n",
       "    </tr>\n",
       "    <tr>\n",
       "      <th>9</th>\n",
       "      <td>Gaming Console</td>\n",
       "      <td>35000</td>\n",
       "      <td>Electronics</td>\n",
       "      <td>31500.0</td>\n",
       "    </tr>\n",
       "    <tr>\n",
       "      <th>10</th>\n",
       "      <td>Washing Machine</td>\n",
       "      <td>30000</td>\n",
       "      <td>Home Appliances</td>\n",
       "      <td>27000.0</td>\n",
       "    </tr>\n",
       "    <tr>\n",
       "      <th>11</th>\n",
       "      <td>Office Desk</td>\n",
       "      <td>18000</td>\n",
       "      <td>Furniture</td>\n",
       "      <td>16200.0</td>\n",
       "    </tr>\n",
       "    <tr>\n",
       "      <th>12</th>\n",
       "      <td>Bluetooth Speaker</td>\n",
       "      <td>567</td>\n",
       "      <td>Electronics</td>\n",
       "      <td>510.3</td>\n",
       "    </tr>\n",
       "    <tr>\n",
       "      <th>13</th>\n",
       "      <td>Air Conditioner</td>\n",
       "      <td>450</td>\n",
       "      <td>Home Appliances</td>\n",
       "      <td>405.0</td>\n",
       "    </tr>\n",
       "    <tr>\n",
       "      <th>14</th>\n",
       "      <td>Table Lamp</td>\n",
       "      <td>2500</td>\n",
       "      <td>Furniture</td>\n",
       "      <td>2250.0</td>\n",
       "    </tr>\n",
       "  </tbody>\n",
       "</table>\n",
       "</div>"
      ],
      "text/plain": [
       "         Product Name  Price         Category  Discounted Price\n",
       "0              Laptop  55000      Electronics           49500.0\n",
       "1          Smartphone  25000      Electronics           22500.0\n",
       "2          Headphones   3000      Electronics            2700.0\n",
       "3        Coffee Maker   7000  Home Appliances            6300.0\n",
       "4          Desk Chair  12000        Furniture           10800.0\n",
       "5        Refrigerator  40000  Home Appliances           36000.0\n",
       "6      Microwave Oven    150  Home Appliances             135.0\n",
       "7          Smartwatch   1000      Electronics             900.0\n",
       "8           Bookshelf    500        Furniture             450.0\n",
       "9      Gaming Console  35000      Electronics           31500.0\n",
       "10    Washing Machine  30000  Home Appliances           27000.0\n",
       "11        Office Desk  18000        Furniture           16200.0\n",
       "12  Bluetooth Speaker    567      Electronics             510.3\n",
       "13    Air Conditioner    450  Home Appliances             405.0\n",
       "14         Table Lamp   2500        Furniture            2250.0"
      ]
     },
     "execution_count": 38,
     "metadata": {},
     "output_type": "execute_result"
    }
   ],
   "source": [
    "# there 2 ways we can do this one is iterative approach using comprehension other one is vector operation \n",
    "# both works but the vector operation is much faster than iterative approach\n",
    "# ProductInfo_Df[\"Discounted Price\"] = [(x*90)/100 for x in ProductInfo_Df[\"Price\"]]  \n",
    "ProductInfo_Df[\"Discounted Price\"] = ProductInfo_Df[\"Price\"]*0.9\n",
    "ProductInfo_Df"
   ]
  },
  {
   "cell_type": "code",
   "execution_count": 40,
   "id": "a8af91a7-c093-4173-acad-25aeb696f856",
   "metadata": {},
   "outputs": [
    {
     "data": {
      "text/html": [
       "<div>\n",
       "<style scoped>\n",
       "    .dataframe tbody tr th:only-of-type {\n",
       "        vertical-align: middle;\n",
       "    }\n",
       "\n",
       "    .dataframe tbody tr th {\n",
       "        vertical-align: top;\n",
       "    }\n",
       "\n",
       "    .dataframe thead th {\n",
       "        text-align: right;\n",
       "    }\n",
       "</style>\n",
       "<table border=\"1\" class=\"dataframe\">\n",
       "  <thead>\n",
       "    <tr style=\"text-align: right;\">\n",
       "      <th></th>\n",
       "      <th>Product Name</th>\n",
       "      <th>Price</th>\n",
       "      <th>Category</th>\n",
       "      <th>Discounted Price</th>\n",
       "    </tr>\n",
       "  </thead>\n",
       "  <tbody>\n",
       "    <tr>\n",
       "      <th>6</th>\n",
       "      <td>Microwave Oven</td>\n",
       "      <td>150</td>\n",
       "      <td>Home Appliances</td>\n",
       "      <td>135.0</td>\n",
       "    </tr>\n",
       "    <tr>\n",
       "      <th>8</th>\n",
       "      <td>Bookshelf</td>\n",
       "      <td>500</td>\n",
       "      <td>Furniture</td>\n",
       "      <td>450.0</td>\n",
       "    </tr>\n",
       "    <tr>\n",
       "      <th>13</th>\n",
       "      <td>Air Conditioner</td>\n",
       "      <td>450</td>\n",
       "      <td>Home Appliances</td>\n",
       "      <td>405.0</td>\n",
       "    </tr>\n",
       "  </tbody>\n",
       "</table>\n",
       "</div>"
      ],
      "text/plain": [
       "       Product Name  Price         Category  Discounted Price\n",
       "6    Microwave Oven    150  Home Appliances             135.0\n",
       "8         Bookshelf    500        Furniture             450.0\n",
       "13  Air Conditioner    450  Home Appliances             405.0"
      ]
     },
     "execution_count": 40,
     "metadata": {},
     "output_type": "execute_result"
    }
   ],
   "source": [
    "ProductInfo_Df_filter = ProductInfo_Df[ProductInfo_Df[\"Discounted Price\"]<=500]\n",
    "ProductInfo_Df_filter"
   ]
  },
  {
   "cell_type": "code",
   "execution_count": null,
   "id": "24348df7-b6f7-46f7-885f-003edff75c29",
   "metadata": {},
   "outputs": [],
   "source": []
  }
 ],
 "metadata": {
  "kernelspec": {
   "display_name": "Python 3 (ipykernel)",
   "language": "python",
   "name": "python3"
  },
  "language_info": {
   "codemirror_mode": {
    "name": "ipython",
    "version": 3
   },
   "file_extension": ".py",
   "mimetype": "text/x-python",
   "name": "python",
   "nbconvert_exporter": "python",
   "pygments_lexer": "ipython3",
   "version": "3.13.3"
  }
 },
 "nbformat": 4,
 "nbformat_minor": 5
}
